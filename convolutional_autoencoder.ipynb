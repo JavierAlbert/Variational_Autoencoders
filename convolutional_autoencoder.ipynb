{
  "nbformat": 4,
  "nbformat_minor": 0,
  "metadata": {
    "colab": {
      "name": "convolutional_autoencoder.ipynb",
      "version": "0.3.2",
      "provenance": [],
      "include_colab_link": true
    },
    "kernelspec": {
      "name": "python3",
      "display_name": "Python 3"
    },
    "accelerator": "GPU"
  },
  "cells": [
    {
      "cell_type": "markdown",
      "metadata": {
        "id": "view-in-github",
        "colab_type": "text"
      },
      "source": [
        "<a href=\"https://colab.research.google.com/github/JavierAlbert/Variational_Autoencoders/blob/master/convolutional_autoencoder.ipynb\" target=\"_parent\"><img src=\"https://colab.research.google.com/assets/colab-badge.svg\" alt=\"Open In Colab\"/></a>"
      ]
    },
    {
      "metadata": {
        "id": "uzuKt6c00X3T",
        "colab_type": "text"
      },
      "cell_type": "markdown",
      "source": [
        "# Convolutional Autoencoder"
      ]
    },
    {
      "metadata": {
        "id": "XUZxaJbs0gjJ",
        "colab_type": "text"
      },
      "cell_type": "markdown",
      "source": [
        "Let's move now to concolutional autoencoders. As everything with images, we expect convolutional neural networks to perform better. We will use max pooling layers for the encoder section and upsampling layers for the decoder section. Now we won't format the images to a 784 line vector so we can preserve the structure that the convolutional layers benefit from. \n",
        "\n",
        "**Encoder:**\n",
        "- Layer 1: 16 convolutional units of 3x3 with ReLu activation function and followed by 2x2 max pooling\n",
        "- Layer 2: 8 convolutional units of 3x3 with ReLu activation function and followed by 2x2 max pooling\n",
        "- Layer 3: 8 convolutional units of 3x3 with ReLu activation function and followed by 2x2 max pooling\n",
        "\n",
        "**Decoder:**\n",
        "- Layer 1: 8 convolutional units of 3x3 with ReLu activation function and followed by 2x2 up sampling\n",
        "- Layer 2: 8 convolutional units of 3x3 with ReLu activation function and followed by 2x2 up sampling\n",
        "- Layer 3: 16 convolutional units of 3x3 with ReLu activation function and followed by 2x2 up sampling\n",
        "- Layer 4: 1 convolutional unit of 3x3 with Sigmoid activation function\n",
        "\n",
        "Total parameters: 4385  \n",
        "Encoded dimension: (4, 4, 8) = 128\n"
      ]
    },
    {
      "metadata": {
        "id": "z_v7vR09nqVr",
        "colab_type": "code",
        "colab": {}
      },
      "cell_type": "code",
      "source": [
        "from keras.datasets import fashion_mnist\n",
        "import matplotlib.pyplot as plt\n",
        "from keras.layers import Input, Dense, Conv2D, MaxPooling2D, UpSampling2D\n",
        "from keras.models import Model\n",
        "import numpy as np"
      ],
      "execution_count": 0,
      "outputs": []
    },
    {
      "metadata": {
        "id": "Cp8W4Ohwnrvg",
        "colab_type": "code",
        "colab": {}
      },
      "cell_type": "code",
      "source": [
        "# Load data\n",
        "(x_train, y_train), (x_test, y_test) = fashion_mnist.load_data()"
      ],
      "execution_count": 0,
      "outputs": []
    },
    {
      "metadata": {
        "id": "Lw54sI8NntWQ",
        "colab_type": "code",
        "colab": {
          "base_uri": "https://localhost:8080/",
          "height": 52
        },
        "outputId": "59c96221-6921-4e67-f5d4-cd6c53f0c537"
      },
      "cell_type": "code",
      "source": [
        "# Reshape images to 784 pixels and stack them\n",
        "x_train = x_train.astype('float32') / 255.\n",
        "x_test = x_test.astype('float32') / 255.\n",
        "x_train = x_train.reshape((len(x_train), np.prod(x_train.shape[1:])))\n",
        "x_test = x_test.reshape((len(x_test), np.prod(x_test.shape[1:])))\n",
        "print (x_train.shape)\n",
        "print (x_test.shape)"
      ],
      "execution_count": 8,
      "outputs": [
        {
          "output_type": "stream",
          "text": [
            "(60000, 784)\n",
            "(10000, 784)\n"
          ],
          "name": "stdout"
        }
      ]
    },
    {
      "metadata": {
        "id": "xtY4Ag-czU9Y",
        "colab_type": "code",
        "colab": {}
      },
      "cell_type": "code",
      "source": [
        "input_img = Input(shape=(28, 28, 1))\n",
        "\n",
        "# Define encoding layers  \n",
        "encode = Conv2D(16, (3, 3), activation='relu', padding='same')(input_img)\n",
        "encode = MaxPooling2D((2, 2), padding='same')(encode)\n",
        "encode = Conv2D(8, (3, 3), activation='relu', padding='same')(encode)\n",
        "encode = MaxPooling2D((2, 2), padding='same')(encode)\n",
        "encode = Conv2D(8, (3, 3), activation='relu', padding='same')(encode)\n",
        "encode = MaxPooling2D((2, 2), padding='same')(encode)\n",
        "\n",
        "# Define decoding layers\n",
        "decode = Conv2D(8, (3, 3), activation='relu', padding='same')(encode)\n",
        "decode = UpSampling2D((2, 2))(decode)\n",
        "decode = Conv2D(8, (3, 3), activation='relu', padding='same')(decode)\n",
        "decode = UpSampling2D((2, 2))(decode)\n",
        "decode = Conv2D(16, (3, 3), activation='relu')(decode)\n",
        "decode = UpSampling2D((2, 2))(decode)\n",
        "decode = Conv2D(1, (3, 3), activation='sigmoid', padding='same')(decode)\n",
        "\n",
        "# Define Model\n",
        "autoencoder = Model(input_img, decode)\n",
        "\n",
        "# Compile Model\n",
        "autoencoder.compile(optimizer='adadelta', loss='binary_crossentropy')"
      ],
      "execution_count": 0,
      "outputs": []
    },
    {
      "metadata": {
        "id": "oJYV13v94Fuj",
        "colab_type": "code",
        "outputId": "98524441-7c07-483b-8b10-cd3e48d3e03f",
        "colab": {
          "base_uri": "https://localhost:8080/",
          "height": 638
        }
      },
      "cell_type": "code",
      "source": [
        "# Let's take a peak at the architecture\n",
        "autoencoder.summary()"
      ],
      "execution_count": 10,
      "outputs": [
        {
          "output_type": "stream",
          "text": [
            "_________________________________________________________________\n",
            "Layer (type)                 Output Shape              Param #   \n",
            "=================================================================\n",
            "input_2 (InputLayer)         (None, 28, 28, 1)         0         \n",
            "_________________________________________________________________\n",
            "conv2d_1 (Conv2D)            (None, 28, 28, 16)        160       \n",
            "_________________________________________________________________\n",
            "max_pooling2d_1 (MaxPooling2 (None, 14, 14, 16)        0         \n",
            "_________________________________________________________________\n",
            "conv2d_2 (Conv2D)            (None, 14, 14, 8)         1160      \n",
            "_________________________________________________________________\n",
            "max_pooling2d_2 (MaxPooling2 (None, 7, 7, 8)           0         \n",
            "_________________________________________________________________\n",
            "conv2d_3 (Conv2D)            (None, 7, 7, 8)           584       \n",
            "_________________________________________________________________\n",
            "max_pooling2d_3 (MaxPooling2 (None, 4, 4, 8)           0         \n",
            "_________________________________________________________________\n",
            "conv2d_4 (Conv2D)            (None, 4, 4, 8)           584       \n",
            "_________________________________________________________________\n",
            "up_sampling2d_1 (UpSampling2 (None, 8, 8, 8)           0         \n",
            "_________________________________________________________________\n",
            "conv2d_5 (Conv2D)            (None, 8, 8, 8)           584       \n",
            "_________________________________________________________________\n",
            "up_sampling2d_2 (UpSampling2 (None, 16, 16, 8)         0         \n",
            "_________________________________________________________________\n",
            "conv2d_6 (Conv2D)            (None, 14, 14, 16)        1168      \n",
            "_________________________________________________________________\n",
            "up_sampling2d_3 (UpSampling2 (None, 28, 28, 16)        0         \n",
            "_________________________________________________________________\n",
            "conv2d_7 (Conv2D)            (None, 28, 28, 1)         145       \n",
            "=================================================================\n",
            "Total params: 4,385\n",
            "Trainable params: 4,385\n",
            "Non-trainable params: 0\n",
            "_________________________________________________________________\n"
          ],
          "name": "stdout"
        }
      ]
    },
    {
      "metadata": {
        "id": "UKVGzL-J5NbB",
        "colab_type": "code",
        "outputId": "c40c5768-a23a-4b6d-d369-c44625d071fc",
        "colab": {
          "base_uri": "https://localhost:8080/",
          "height": 34
        }
      },
      "cell_type": "code",
      "source": [
        "# Fit autoencoder\n",
        "autoencoder.fit(x_train, x_train,\n",
        "                epochs=50,\n",
        "                batch_size=128,\n",
        "                shuffle=True,\n",
        "                validation_data=(x_test, x_test),\n",
        "                verbose=0)"
      ],
      "execution_count": 13,
      "outputs": [
        {
          "output_type": "execute_result",
          "data": {
            "text/plain": [
              "<keras.callbacks.History at 0x7fef16ffe908>"
            ]
          },
          "metadata": {
            "tags": []
          },
          "execution_count": 13
        }
      ]
    },
    {
      "metadata": {
        "id": "56iQKN_R6Z4E",
        "colab_type": "code",
        "outputId": "eb822180-8f7e-4686-feef-247d50bcb543",
        "colab": {
          "base_uri": "https://localhost:8080/",
          "height": 243
        }
      },
      "cell_type": "code",
      "source": [
        "# Let's use the autoencoder on some of the test images\n",
        "decoded_imgs = autoencoder.predict(x_test)\n",
        "\n",
        "# Now we can take a look\n",
        "plt.figure(figsize=(20, 4))\n",
        "for i in range(10):\n",
        "  \n",
        "    # display original\n",
        "    ax = plt.subplot(2, 10, i + 1)\n",
        "    plt.imshow(x_test[i].reshape(28, 28))\n",
        "    ax.get_xaxis().set_visible(False)\n",
        "    ax.get_yaxis().set_visible(False)\n",
        "\n",
        "    # display reconstruction\n",
        "    ax = plt.subplot(2, 10, i + 1 + 10)\n",
        "    plt.imshow(decoded_imgs[i].reshape(28, 28))\n",
        "    ax.get_xaxis().set_visible(False)\n",
        "    ax.get_yaxis().set_visible(False)\n",
        "    \n",
        "plt.show()"
      ],
      "execution_count": 14,
      "outputs": [
        {
          "output_type": "display_data",
          "data": {
            "image/png": "[encoded data removed]",
            "text/plain": [
              "<matplotlib.figure.Figure at 0x7fef1784ef98>"
            ]
          },
          "metadata": {
            "tags": []
          }
        }
      ]
    }
  ]
}