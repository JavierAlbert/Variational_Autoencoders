{
  "nbformat": 4,
  "nbformat_minor": 0,
  "metadata": {
    "colab": {
      "name": "deep_autoencoder.ipynb",
      "version": "0.3.2",
      "provenance": [],
      "include_colab_link": true
    },
    "kernelspec": {
      "name": "python3",
      "display_name": "Python 3"
    },
    "accelerator": "GPU"
  },
  "cells": [
    {
      "cell_type": "markdown",
      "metadata": {
        "id": "view-in-github",
        "colab_type": "text"
      },
      "source": [
        "<a href=\"https://colab.research.google.com/github/JavierAlbert/Variational_Autoencoders/blob/master/deep_autoencoder.ipynb\" target=\"_parent\"><img src=\"https://colab.research.google.com/assets/colab-badge.svg\" alt=\"Open In Colab\"/></a>"
      ]
    },
    {
      "metadata": {
        "id": "hifQyE4-xqKo",
        "colab_type": "text"
      },
      "cell_type": "markdown",
      "source": [
        "# Deep Autoencoder"
      ]
    },
    {
      "metadata": {
        "id": "wBiqzrJvyrsw",
        "colab_type": "text"
      },
      "cell_type": "markdown",
      "source": [
        "Let's now go a bit deeper and add layers to the network, still fully dense layers."
      ]
    },
    {
      "metadata": {
        "id": "Ix3MM6m1mAcq",
        "colab_type": "code",
        "colab": {}
      },
      "cell_type": "code",
      "source": [
        "from keras.datasets import fashion_mnist\n",
        "import matplotlib.pyplot as plt\n",
        "from keras.layers import Input, Dense\n",
        "from keras.models import Model\n",
        "import numpy as np"
      ],
      "execution_count": 0,
      "outputs": []
    },
    {
      "metadata": {
        "id": "Cyx1gYoMl-AR",
        "colab_type": "code",
        "colab": {}
      },
      "cell_type": "code",
      "source": [
        "# Load data\n",
        "(x_train, y_train), (x_test, y_test) = fashion_mnist.load_data()"
      ],
      "execution_count": 0,
      "outputs": []
    },
    {
      "metadata": {
        "id": "GOaPvRPQmfZ4",
        "colab_type": "code",
        "colab": {
          "base_uri": "https://localhost:8080/",
          "height": 52
        },
        "outputId": "7c076dda-7789-4c5c-8bce-9969f32388aa"
      },
      "cell_type": "code",
      "source": [
        "# Reshape images to 784 pixels and stack them\n",
        "x_train = x_train.astype('float32') / 255.\n",
        "x_test = x_test.astype('float32') / 255.\n",
        "x_train = x_train.reshape((len(x_train), np.prod(x_train.shape[1:])))\n",
        "x_test = x_test.reshape((len(x_test), np.prod(x_test.shape[1:])))\n",
        "print (x_train.shape)\n",
        "print (x_test.shape)"
      ],
      "execution_count": 10,
      "outputs": [
        {
          "output_type": "stream",
          "text": [
            "(60000, 784)\n",
            "(10000, 784)\n"
          ],
          "name": "stdout"
        }
      ]
    },
    {
      "metadata": {
        "id": "bPCdSb8gxASn",
        "colab_type": "code",
        "colab": {}
      },
      "cell_type": "code",
      "source": [
        "input_img = Input(shape=(784,))\n",
        "\n",
        "# Encoding layers\n",
        "encode = Dense(128, activation='relu')(input_img)\n",
        "encode = Dense(64, activation='relu')(encode)\n",
        "encode = Dense(32, activation='relu')(encode)\n",
        "\n",
        "# Decoding layers\n",
        "decode = Dense(64, activation='relu')(encode)\n",
        "decode = Dense(128, activation='relu')(decode)\n",
        "decode = Dense(784, activation='sigmoid')(decode)"
      ],
      "execution_count": 0,
      "outputs": []
    },
    {
      "metadata": {
        "id": "UdCE4oJ_y5XY",
        "colab_type": "code",
        "outputId": "0c33b973-f2d9-410a-f68f-7a862f6707b8",
        "colab": {
          "base_uri": "https://localhost:8080/",
          "height": 34
        }
      },
      "cell_type": "code",
      "source": [
        "# Define Model\n",
        "encode_decode = Model(input_img, decode)\n",
        "\n",
        "# Compile Model\n",
        "encode_decode.compile(optimizer='adadelta', loss='binary_crossentropy')\n",
        "\n",
        "# Fit\n",
        "encode_decode.fit(x_train, x_train,\n",
        "                  epochs=50,\n",
        "                  batch_size=256,\n",
        "                  shuffle=True,\n",
        "                  validation_data=(x_test, x_test),\n",
        "                  verbose=0)"
      ],
      "execution_count": 12,
      "outputs": [
        {
          "output_type": "execute_result",
          "data": {
            "text/plain": [
              "<keras.callbacks.History at 0x7fc41b9fb6d8>"
            ]
          },
          "metadata": {
            "tags": []
          },
          "execution_count": 12
        }
      ]
    },
    {
      "metadata": {
        "id": "50W7-Nepz-Wq",
        "colab_type": "code",
        "outputId": "eb502fdf-d82a-406c-d1e9-1ce94c7799a0",
        "colab": {
          "base_uri": "https://localhost:8080/",
          "height": 243
        }
      },
      "cell_type": "code",
      "source": [
        "# Let's use the autoencoder on some of the test images\n",
        "decoded_imgs = encode_decode.predict(x_test)\n",
        "\n",
        "# Now we can take a look\n",
        "plt.figure(figsize=(20, 4))\n",
        "for i in range(10):\n",
        "  \n",
        "    # display original\n",
        "    ax = plt.subplot(2, 10, i + 1)\n",
        "    plt.imshow(x_test[i].reshape(28, 28))\n",
        "    ax.get_xaxis().set_visible(False)\n",
        "    ax.get_yaxis().set_visible(False)\n",
        "\n",
        "    # display reconstruction\n",
        "    ax = plt.subplot(2, 10, i + 1 + 10)\n",
        "    plt.imshow(decoded_imgs[i].reshape(28, 28))\n",
        "    ax.get_xaxis().set_visible(False)\n",
        "    ax.get_yaxis().set_visible(False)\n",
        "    \n",
        "plt.show()"
      ],
      "execution_count": 13,
      "outputs": [
        {
          "output_type": "display_data",
          "data": {
            "image/png": "[encoded data removed]",
            "text/plain": [
              "<matplotlib.figure.Figure at 0x7fc45a7d6390>"
            ]
          },
          "metadata": {
            "tags": []
          }
        }
      ]
    }
  ]
}