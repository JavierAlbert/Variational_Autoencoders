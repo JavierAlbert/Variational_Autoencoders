{
  "nbformat": 4,
  "nbformat_minor": 0,
  "metadata": {
    "colab": {
      "name": "Dense_Autoencoder.ipynb",
      "version": "0.3.2",
      "provenance": []
    },
    "kernelspec": {
      "name": "python3",
      "display_name": "Python 3"
    }
  },
  "cells": [
    {
      "metadata": {
        "id": "QeCUhGWFffX-",
        "colab_type": "text"
      },
      "cell_type": "markdown",
      "source": [
        "# Dense Autoencoder"
      ]
    },
    {
      "metadata": {
        "id": "qxRK4f8pflX1",
        "colab_type": "text"
      },
      "cell_type": "markdown",
      "source": [
        "We shall begin with the exploration of a shallow fully connected autoencoder on the Fashion-MNIST dataset. The encoding dimension will be 32 while the image dimension is 784, meaning a compression factor of 24.5"
      ]
    },
    {
      "metadata": {
        "id": "FiETmMH6gHDm",
        "colab_type": "code",
        "outputId": "acdac57d-86bc-4896-8863-0ffb0ef9bbe3",
        "colab": {
          "base_uri": "https://localhost:8080/",
          "height": 34
        }
      },
      "cell_type": "code",
      "source": [
        "from keras.datasets import fashion_mnist\n",
        "import numpy as np\n",
        "import matplotlib.pyplot as plt\n",
        "from keras.layers import Input, Dense, Conv2D, MaxPooling2D, UpSampling2D\n",
        "from keras.models import Model\n",
        "from keras import backend as K"
      ],
      "execution_count": 1,
      "outputs": [
        {
          "output_type": "stream",
          "text": [
            "Using TensorFlow backend.\n"
          ],
          "name": "stderr"
        }
      ]
    },
    {
      "metadata": {
        "id": "UnTCCg5c81xy",
        "colab_type": "code",
        "colab": {}
      },
      "cell_type": "code",
      "source": [
        "encoded_dim = 32\n",
        "input_img = Input(shape=(784,))\n",
        "\n",
        "# Encoding layer\n",
        "encode = Dense(encoded_dim, activation='relu')(input_img)\n",
        "\n",
        "# Decoding layer\n",
        "decode = Dense(784, activation='sigmoid')(encode)"
      ],
      "execution_count": 0,
      "outputs": []
    },
    {
      "metadata": {
        "id": "_abZ9oGUk-OX",
        "colab_type": "code",
        "colab": {}
      },
      "cell_type": "code",
      "source": [
        "# Model 1: Maps input image to encoded representation\n",
        "encoder = Model(input_img, encode)\n",
        "\n",
        "# Model 2: Maps input image to its reconstruction\n",
        "encode_decode = Model(input_img, decode)\n",
        "\n",
        "# Model 3: Maps encoded representation to image\n",
        "encoded_input = Input(shape=(encoded_dim,))\n",
        "decoder_layer = encode_decode.layers[-1]\n",
        "decoder = Model(encoded_input, decoder_layer(encoded_input))"
      ],
      "execution_count": 0,
      "outputs": []
    },
    {
      "metadata": {
        "id": "dEtgEj1k9C-y",
        "colab_type": "code",
        "colab": {}
      },
      "cell_type": "code",
      "source": [
        "# Compile model\n",
        "encode_decode.compile(optimizer='adadelta', loss='binary_crossentropy')"
      ],
      "execution_count": 0,
      "outputs": []
    },
    {
      "metadata": {
        "id": "fGH-beWt9E95",
        "colab_type": "code",
        "outputId": "3d93443f-a3e6-405d-db1a-d81e3d4245cc",
        "colab": {
          "base_uri": "https://localhost:8080/",
          "height": 158
        }
      },
      "cell_type": "code",
      "source": [
        "# Load data\n",
        "(x_train, y_train), (x_test, y_test) = fashion_mnist.load_data()"
      ],
      "execution_count": 5,
      "outputs": [
        {
          "output_type": "stream",
          "text": [
            "Downloading data from http://fashion-mnist.s3-website.eu-central-1.amazonaws.com/train-labels-idx1-ubyte.gz\n",
            "32768/29515 [=================================] - 0s 4us/step\n",
            "Downloading data from http://fashion-mnist.s3-website.eu-central-1.amazonaws.com/train-images-idx3-ubyte.gz\n",
            "26427392/26421880 [==============================] - 4s 0us/step\n",
            "Downloading data from http://fashion-mnist.s3-website.eu-central-1.amazonaws.com/t10k-labels-idx1-ubyte.gz\n",
            "8192/5148 [===============================================] - 0s 0us/step\n",
            "Downloading data from http://fashion-mnist.s3-website.eu-central-1.amazonaws.com/t10k-images-idx3-ubyte.gz\n",
            "4423680/4422102 [==============================] - 1s 0us/step\n"
          ],
          "name": "stdout"
        }
      ]
    },
    {
      "metadata": {
        "id": "mppe0KWx9GZ5",
        "colab_type": "code",
        "outputId": "2c30ae5f-951d-49b4-dc92-350c332bc146",
        "colab": {
          "base_uri": "https://localhost:8080/",
          "height": 52
        }
      },
      "cell_type": "code",
      "source": [
        "# Reshape images to 784 pixels and stack them\n",
        "x_train = x_train.astype('float32') / 255.\n",
        "x_test = x_test.astype('float32') / 255.\n",
        "x_train = x_train.reshape((len(x_train), np.prod(x_train.shape[1:])))\n",
        "x_test = x_test.reshape((len(x_test), np.prod(x_test.shape[1:])))\n",
        "print (x_train.shape)\n",
        "print (x_test.shape)"
      ],
      "execution_count": 6,
      "outputs": [
        {
          "output_type": "stream",
          "text": [
            "(60000, 784)\n",
            "(10000, 784)\n"
          ],
          "name": "stdout"
        }
      ]
    },
    {
      "metadata": {
        "id": "jCt8k02L9JyR",
        "colab_type": "code",
        "outputId": "d62ec400-f94a-4a2b-cc66-02c4316d63a2",
        "colab": {
          "base_uri": "https://localhost:8080/",
          "height": 34
        }
      },
      "cell_type": "code",
      "source": [
        "# Train model with training images as both input and output\n",
        "# Use test images as validation dataset\n",
        "encode_decode.fit(x_train, x_train,\n",
        "                  epochs=50,\n",
        "                  batch_size=256,\n",
        "                  shuffle=True,\n",
        "                  validation_data=(x_test, x_test),\n",
        "                  verbose=0)"
      ],
      "execution_count": 7,
      "outputs": [
        {
          "output_type": "execute_result",
          "data": {
            "text/plain": [
              "<keras.callbacks.History at 0x7f817ced7668>"
            ]
          },
          "metadata": {
            "tags": []
          },
          "execution_count": 7
        }
      ]
    },
    {
      "metadata": {
        "id": "uCwiAyIv9L-p",
        "colab_type": "code",
        "outputId": "09308e72-bb76-407d-88d6-5246c81e0a9b",
        "colab": {
          "base_uri": "https://localhost:8080/",
          "height": 243
        }
      },
      "cell_type": "code",
      "source": [
        "# Let's use the autoencoder on some of the test images\n",
        "encoded_imgs = encoder.predict(x_test)\n",
        "decoded_imgs = decoder.predict(encoded_imgs)\n",
        "\n",
        "# Now we can take a look\n",
        "plt.figure(figsize=(20, 4))\n",
        "for i in range(10):\n",
        "  \n",
        "    # display original\n",
        "    ax = plt.subplot(2, 10, i + 1)\n",
        "    plt.imshow(x_test[i].reshape(28, 28))\n",
        "    ax.get_xaxis().set_visible(False)\n",
        "    ax.get_yaxis().set_visible(False)\n",
        "\n",
        "    # display reconstruction\n",
        "    ax = plt.subplot(2, 10, i + 1 + 10)\n",
        "    plt.imshow(decoded_imgs[i].reshape(28, 28))\n",
        "    ax.get_xaxis().set_visible(False)\n",
        "    ax.get_yaxis().set_visible(False)\n",
        "    \n",
        "plt.show()"
      ],
      "execution_count": 8,
      "outputs": [
        {
          "output_type": "display_data",
          "data": {
            "image/png": "[encoded data removed]",
            "text/plain": [
              "<matplotlib.figure.Figure at 0x7f817ced72b0>"
            ]
          },
          "metadata": {
            "tags": []
          }
        }
      ]
    }
  ]
}